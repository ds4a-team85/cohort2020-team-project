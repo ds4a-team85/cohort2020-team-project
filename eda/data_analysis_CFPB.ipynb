{
 "cells": [
  {
   "cell_type": "markdown",
   "metadata": {},
   "source": [
    "# Data Analysis"
   ]
  },
  {
   "cell_type": "markdown",
   "metadata": {},
   "source": [
    "### Financial Well-Being Survey (CFPB, 2017)"
   ]
  },
  {
   "cell_type": "markdown",
   "metadata": {},
   "source": [
    "**Problem statement**: How does financial literacy knowledge impact a marginalized population’s financial well-being, measured in indicators like debt to income rate and home ownership ability?"
   ]
  },
  {
   "cell_type": "markdown",
   "metadata": {},
   "source": [
    "**Objectives**\n",
    "* What's the correlation between financial knowledge and financial well-being, as measured by different indicators?\n",
    "* Does financial knowledge have any relationship with a sub-population's financial well-being? Does it differ from the general population?\n",
    "* If there is a difference, is there additional data we can explore? Is there a possible explanation or reasoning for such difference?\n",
    "* What conclusions can we draw?\n",
    "* Are there any recommendations we can make to public and private institutions to efficiently allocate resources to make the largest difference for the groups observed?"
   ]
  },
  {
   "cell_type": "code",
   "execution_count": 14,
   "metadata": {},
   "outputs": [],
   "source": [
    "import pandas as pd\n",
    "import numpy as np\n",
    "from matplotlib import pyplot as plt\n",
    "import seaborn as sns"
   ]
  },
  {
   "cell_type": "code",
   "execution_count": 2,
   "metadata": {},
   "outputs": [],
   "source": [
    "cfpb_df = pd.read_csv(\"../data/NFWBS_PUF_2016_data.csv\")"
   ]
  },
  {
   "cell_type": "code",
   "execution_count": 3,
   "metadata": {},
   "outputs": [],
   "source": [
    "# Columns that most relate to our problem statement\n",
    "columns_of_interest = [\n",
    "    'PUF_ID',\n",
    "    'agecat',\n",
    "    'PPEDUC',\n",
    "    'PPETHM',\n",
    "    'PPGENDER',\n",
    "    'PPINCIMP',\n",
    "    'PPHHSIZE',\n",
    "    'fpl',\n",
    "    'PPREG4',\n",
    "    'PPREG9',\n",
    "    'FWB1_1',\n",
    "    'FWB1_5',\n",
    "    'FS2_3',\n",
    "    'SUBKNOWL1',\n",
    "    'ACT1_2',\n",
    "    'PROPPLAN_3',\n",
    "    'PROPPLAN_1',\n",
    "    'MANAGE1_2',\n",
    "    'MANAGE1_1',\n",
    "    'MANAGE1_3',\n",
    "    'SAVEHABIT',\n",
    "    'AUTOMATED_1',\n",
    "    'AUTOMATED_2',\n",
    "    'SAVINGSRANGES',\n",
    "    'HOUSING',\n",
    "    'HOUSERANGES',\n",
    "    'MORTGAGE',\n",
    "    'PRODHAVE_8',\n",
    "    'PRODUSE_1',\n",
    "    'PRODUSE_2',\n",
    "    'FWBscore',\n",
    "    'FSscore'\n",
    "]"
   ]
  },
  {
   "cell_type": "code",
   "execution_count": 4,
   "metadata": {},
   "outputs": [],
   "source": [
    "# Value mapping to actual responses; might come in handy when doing EDA\n",
    "value_map = {\n",
    "    \"agecat\":{\n",
    "      1: \"18-24\",\n",
    "      2: \"25-34\",\n",
    "      3: \"35-44\",\n",
    "      4: \"45-54\",\n",
    "      5: \"55-61\",\n",
    "      6: \"62-69\",\n",
    "      7: \"70-74\",\n",
    "      8: \"75+\"\n",
    "    },\n",
    "    \"PPEDUC\":{\n",
    "      1: \"Less than high school\",\n",
    "      2: \"High school degree/GED\",\n",
    "      3: \"Some college/Associate\",\n",
    "      4: \"Bachelors degree\",\n",
    "      5: \"Graduate/professional degree\"\n",
    "    },\n",
    "    \"PPETHM\":{\n",
    "      1: \"White, Non-Hispanic\",\n",
    "      2: \"Black, Non-Hispanic\",\n",
    "      3: \"Other, Non-Hispanic\",\n",
    "      4: \"Hispanic\"\n",
    "    },\n",
    "    \"PPGENDER\":{\n",
    "      1: \"Male\",\n",
    "      2: \"Female\"\n",
    "    },\n",
    "    \"PPINCIMP\":{\n",
    "      1: \"Less than $20,000\",\n",
    "      2: \"$20,000 to $29,999\",\n",
    "      3: \"$30,000 to $39,999\",\n",
    "      4: \"$40,000 to $49,999\",\n",
    "      5: \"$50,000 to $59,999\",\n",
    "      6: \"$60,000 to $74,999\",\n",
    "      7: \"$75,000 to $99,999\",\n",
    "      8: \"$100,000 to $149,999\",\n",
    "      9: \"$150,000 or more\"\n",
    "    },\n",
    "    \"PPHHSIZE\":{\n",
    "      1: \"1\",\n",
    "      2: \"2\",\n",
    "      3: \"3\",\n",
    "      4: \"4\",\n",
    "      5: \"5+\"\n",
    "    },\n",
    "    \"fpl\":{\n",
    "      1: \"<100% FPL\",\n",
    "      2: \"100%-199% FPL\",\n",
    "      3: \"200%+ FPL\"\n",
    "    },\n",
    "    \"PPREG4\":{\n",
    "      1: \"Northeast\",\n",
    "      2: \"Midwest\",\n",
    "      3: \"South\",\n",
    "      4: \"West\"\n",
    "    },\n",
    "    \"PPREG9\":{\n",
    "      1: \"New England\",\n",
    "      2: \"Mid-Atlantic\",\n",
    "      3: \"East-North Central\",\n",
    "      4: \"West-North Central\",\n",
    "      5: \"South Atlantic\",\n",
    "      6: \"East-South Central\",\n",
    "      7: \"West-South Central\",\n",
    "      8: \"Mountain\",\n",
    "      9: \"Pacific\"\n",
    "    },\n",
    "    \"FWB1_1\":{\n",
    "      -4: \"Response not written to database\",\n",
    "      -1: \"Refused\",\n",
    "      1: \"Not at all\",\n",
    "      2: \"Very little\",\n",
    "      3: \"Somewhat\",\n",
    "      4: \"Very well\",\n",
    "      5: \"Completely\"\n",
    "    },\n",
    "    \"FWB1_5\":{\n",
    "      -4: \"Response not written to database\",\n",
    "      -1: \"Refused\",\n",
    "      1: \"Not at all\",\n",
    "      2: \"Very little\",\n",
    "      3: \"Somewhat\",\n",
    "      4: \"Very well\",\n",
    "      5: \"Completely\"\n",
    "    },\n",
    "    \"FS2_3\":{\n",
    "      -1: \"Refused\",\n",
    "      1: \"Never\",\n",
    "      2: \"Rarely\",\n",
    "      3: \"Sometimes\",\n",
    "      4: \"Often\",\n",
    "      5: \"Always\"\n",
    "    },\n",
    "    \"SUBKNOWL1\":{\n",
    "      -1: \"Refused\",\n",
    "      1: \"1 - Very low\",\n",
    "      2: \"2\",\n",
    "      3: \"3\",\n",
    "      4: \"4\",\n",
    "      5: \"5\",\n",
    "      6: \"6\",\n",
    "      7: \"7 - Very high\"\n",
    "    },\n",
    "    \"ACT1_2\":{\n",
    "      -1: \"Refused\",\n",
    "      1: \"Not at all\",\n",
    "      2: \"Very little\",\n",
    "      3: \"Somewhat\",\n",
    "      4: \"Very well\",\n",
    "      5: \"Completely\"\n",
    "    },\n",
    "    \"PROPPLAN_1\":{\n",
    "      -1: \"Refused\",\n",
    "      1: \"Strongly disagree\",\n",
    "      2: \"Disagree\",\n",
    "      3: \"Neither agree nor disagree\",\n",
    "      4: \"Agree\",\n",
    "      5: \"Strongly agree\"\n",
    "    },\n",
    "    \"PROPPLAN_3\":{\n",
    "      -1: \"Refused\",\n",
    "      1: \"Strongly disagree\",\n",
    "      2: \"Disagree\",\n",
    "      3: \"Neither agree nor disagree\",\n",
    "      4: \"Agree\",\n",
    "      5: \"Strongly agree\"\n",
    "    },\n",
    "    \"MANAGE1_1\":{\n",
    "      -1: \"Refused\",\n",
    "      1: \"Not applicable or never\",\n",
    "      2: \"Seldom\",\n",
    "      3: \"Sometimes\",\n",
    "      4: \"Often\",\n",
    "      5: \"Always\"\n",
    "    },\n",
    "    \"MANAGE1_2\":{\n",
    "      -1: \"Refused\",\n",
    "      1: \"Not applicable or never\",\n",
    "      2: \"Seldom\",\n",
    "      3: \"Sometimes\",\n",
    "      4: \"Often\",\n",
    "      5: \"Always\"\n",
    "    },\n",
    "    \"MANAGE1_3\":{\n",
    "      -1: \"Refused\",\n",
    "      1: \"Not applicable or never\",\n",
    "      2: \"Seldom\",\n",
    "      3: \"Sometimes\",\n",
    "      4: \"Often\",\n",
    "      5: \"Always\"\n",
    "    },\n",
    "    \"SAVEHABIT\":{\n",
    "      -1: \"Refused\",\n",
    "      1: \"Strongly disagree\",\n",
    "      2: \"Disagree\",\n",
    "      3: \"Disagree slightly\",\n",
    "      4: \"Agree slightly\",\n",
    "      5: \"Agree\",\n",
    "      6: \"Strongly agree\"\n",
    "    },\n",
    "    \"AUTOMATED_1\":{\n",
    "      -1: \"Refused\",\n",
    "      0: \"No\",\n",
    "      1: \"Yes\",\n",
    "      7: \"I do not have this type of account\"\n",
    "    },\n",
    "    \"AUTOMATED_2\":{\n",
    "      -1: \"Refused\",\n",
    "      0: \"No\",\n",
    "      1: \"Yes\",\n",
    "      7: \"I do not have this type of account\"\n",
    "    },\n",
    "    \"SAVINGSRANGES\":{\n",
    "      -1: \"Refused\",\n",
    "      1: \"0\",\n",
    "      2: \"$1-99\",\n",
    "      3: \"$100-999\",\n",
    "      4: \"$1,000-4,999\",\n",
    "      5: \"$5,000-19,999\",\n",
    "      6: \"$20,000-74,999\",\n",
    "      7: \"$75,000 or more\",\n",
    "      98: \"I dont know\",\n",
    "      99: \"Prefer not to say\"\n",
    "    },\n",
    "    \"HOUSING\":{\n",
    "      -1: \"Refused\",\n",
    "      1: \"I own my home\",\n",
    "      2: \"I rent\",\n",
    "      3: \"I do not currently own or rent\"\n",
    "    },\n",
    "    \"HOUSERANGES\":{\n",
    "      -1: \"Refused\",\n",
    "      1: \"Less than $300\",\n",
    "      2: \"$300-499\",\n",
    "      3: \"$500-749\",\n",
    "      4: \"$750-999\",\n",
    "      5: \"$1,000-1,499\",\n",
    "      6: \"$1,500-1,999\",\n",
    "      7: \"$2,000 or more\",\n",
    "      98: \"I dont know\",\n",
    "      99: \"Prefer not to say\"\n",
    "    },\n",
    "    \"MORTGAGE\":{\n",
    "      -2: \"Question not asked because respondent not in item base\",\n",
    "      -1: \"Refused\",\n",
    "      1: \"Less than $50,000\",\n",
    "      2: \"$50,000-199,999\",\n",
    "      3: \"$200,000 or more\",\n",
    "      98: \"I dont know\",\n",
    "      99: \"Prefer not to say\"\n",
    "    },\n",
    "    \"PRODHAVE_8\":{\n",
    "      0: \"No\",\n",
    "      1: \"Yes\"\n",
    "    },\n",
    "    \"PRODUSE_1\":{\n",
    "      0: \"No\",\n",
    "      1: \"Yes\"\n",
    "    },\n",
    "    \"PRODUSE_2\":{\n",
    "      0: \"No\",\n",
    "      1: \"Yes\"\n",
    "    },\n",
    "    \"FWBscore\":{\n",
    "      -4: \"Response not written to database\",\n",
    "      -1: \"Refused\"\n",
    "    },\n",
    "    \"FSscore\":{\n",
    "      -1: \"Refused\"\n",
    "    },\n",
    "}"
   ]
  },
  {
   "cell_type": "code",
   "execution_count": 5,
   "metadata": {},
   "outputs": [],
   "source": [
    "# Column mapping to variable label; might come in handy when doing EDA\n",
    "col_map = {\n",
    "    'agecat':'Age Group',\n",
    "    'PPEDUC':'Education (Highest Degree)',\n",
    "    'PPETHM':'Race/Ethnicity',\n",
    "    'PPGENDER':'Gender',\n",
    "    'PPINCIMP':'Household Income',\n",
    "    'PPHHSIZE':'Household Size',\n",
    "    'fpl':'Federal Poverty Level',\n",
    "    'PPREG4':'Census Region',\n",
    "    'PPREG9':'Census Division',\n",
    "    'FWB1_1':'I could handle a major unexpected expense.',\n",
    "    'FWB1_5':'I am just getting by financially',\n",
    "    'FS2_3':'I struggle to understand financial information',\n",
    "    'SUBKNOWL1':'How would you assess your overall financial knowledge?',\n",
    "    'ACT1_2':'I follow-through on financial goals I set for myself.',\n",
    "    'PROPPLAN_3':'I set financial goals for what I want to achieve with my money',\n",
    "    'PROPPLAN_1':'I consult my budget to see how much money I have left',\n",
    "    'MANAGE1_2':'Stayed within your budget or spending plan',\n",
    "    'MANAGE1_1':'Paid all your bills on time',\n",
    "    'MANAGE1_3':'Paid off credit card balance in full',\n",
    "    'SAVEHABIT':'Putting money into savings is a habit for me',\n",
    "    'AUTOMATED_1':'A Retirement Savings Account',\n",
    "    'AUTOMATED_2':'A Non-Retirement Savings Account',\n",
    "    'SAVINGSRANGES':'How much money do you have in savings today?',\n",
    "    'HOUSING':'Which one of the following best describes your housing situation?',\n",
    "    'HOUSERANGES':'About how much do you pay for your home each month?',\n",
    "    'MORTGAGE':'What do you owe on your home?',\n",
    "    'PRODHAVE_8':'Student/Education Loan (for yourself or someone else)',\n",
    "    'PRODUSE_1':'Used payday loan or cash advance loan',\n",
    "    'PRODUSE_2':'Used pawn loan or auto title loan',\n",
    "    'FWBscore':'Financial Well-Being Scale score',\n",
    "    'FSscore':'Financial Skill Scale score'\n",
    "}"
   ]
  },
  {
   "cell_type": "code",
   "execution_count": 6,
   "metadata": {
    "scrolled": true
   },
   "outputs": [
    {
     "data": {
      "text/html": [
       "<div>\n",
       "<style scoped>\n",
       "    .dataframe tbody tr th:only-of-type {\n",
       "        vertical-align: middle;\n",
       "    }\n",
       "\n",
       "    .dataframe tbody tr th {\n",
       "        vertical-align: top;\n",
       "    }\n",
       "\n",
       "    .dataframe thead th {\n",
       "        text-align: right;\n",
       "    }\n",
       "</style>\n",
       "<table border=\"1\" class=\"dataframe\">\n",
       "  <thead>\n",
       "    <tr style=\"text-align: right;\">\n",
       "      <th></th>\n",
       "      <th>PUF_ID</th>\n",
       "      <th>agecat</th>\n",
       "      <th>PPEDUC</th>\n",
       "      <th>PPETHM</th>\n",
       "      <th>PPGENDER</th>\n",
       "      <th>PPINCIMP</th>\n",
       "      <th>PPHHSIZE</th>\n",
       "      <th>fpl</th>\n",
       "      <th>PPREG4</th>\n",
       "      <th>PPREG9</th>\n",
       "      <th>...</th>\n",
       "      <th>AUTOMATED_2</th>\n",
       "      <th>SAVINGSRANGES</th>\n",
       "      <th>HOUSING</th>\n",
       "      <th>HOUSERANGES</th>\n",
       "      <th>MORTGAGE</th>\n",
       "      <th>PRODHAVE_8</th>\n",
       "      <th>PRODUSE_1</th>\n",
       "      <th>PRODUSE_2</th>\n",
       "      <th>FWBscore</th>\n",
       "      <th>FSscore</th>\n",
       "    </tr>\n",
       "  </thead>\n",
       "  <tbody>\n",
       "    <tr>\n",
       "      <th>0</th>\n",
       "      <td>10350</td>\n",
       "      <td>8</td>\n",
       "      <td>4</td>\n",
       "      <td>1</td>\n",
       "      <td>1</td>\n",
       "      <td>7</td>\n",
       "      <td>1</td>\n",
       "      <td>3</td>\n",
       "      <td>4</td>\n",
       "      <td>8</td>\n",
       "      <td>...</td>\n",
       "      <td>0</td>\n",
       "      <td>6</td>\n",
       "      <td>1</td>\n",
       "      <td>4</td>\n",
       "      <td>2</td>\n",
       "      <td>0</td>\n",
       "      <td>0</td>\n",
       "      <td>0</td>\n",
       "      <td>55</td>\n",
       "      <td>44</td>\n",
       "    </tr>\n",
       "    <tr>\n",
       "      <th>1</th>\n",
       "      <td>7740</td>\n",
       "      <td>3</td>\n",
       "      <td>2</td>\n",
       "      <td>1</td>\n",
       "      <td>1</td>\n",
       "      <td>6</td>\n",
       "      <td>2</td>\n",
       "      <td>3</td>\n",
       "      <td>2</td>\n",
       "      <td>3</td>\n",
       "      <td>...</td>\n",
       "      <td>0</td>\n",
       "      <td>2</td>\n",
       "      <td>1</td>\n",
       "      <td>4</td>\n",
       "      <td>2</td>\n",
       "      <td>0</td>\n",
       "      <td>0</td>\n",
       "      <td>0</td>\n",
       "      <td>51</td>\n",
       "      <td>43</td>\n",
       "    </tr>\n",
       "    <tr>\n",
       "      <th>2</th>\n",
       "      <td>13699</td>\n",
       "      <td>3</td>\n",
       "      <td>3</td>\n",
       "      <td>2</td>\n",
       "      <td>1</td>\n",
       "      <td>6</td>\n",
       "      <td>3</td>\n",
       "      <td>3</td>\n",
       "      <td>4</td>\n",
       "      <td>9</td>\n",
       "      <td>...</td>\n",
       "      <td>1</td>\n",
       "      <td>4</td>\n",
       "      <td>1</td>\n",
       "      <td>3</td>\n",
       "      <td>2</td>\n",
       "      <td>0</td>\n",
       "      <td>0</td>\n",
       "      <td>0</td>\n",
       "      <td>49</td>\n",
       "      <td>42</td>\n",
       "    </tr>\n",
       "    <tr>\n",
       "      <th>3</th>\n",
       "      <td>7267</td>\n",
       "      <td>3</td>\n",
       "      <td>2</td>\n",
       "      <td>1</td>\n",
       "      <td>1</td>\n",
       "      <td>8</td>\n",
       "      <td>1</td>\n",
       "      <td>3</td>\n",
       "      <td>3</td>\n",
       "      <td>7</td>\n",
       "      <td>...</td>\n",
       "      <td>-1</td>\n",
       "      <td>-1</td>\n",
       "      <td>-1</td>\n",
       "      <td>99</td>\n",
       "      <td>-2</td>\n",
       "      <td>0</td>\n",
       "      <td>0</td>\n",
       "      <td>0</td>\n",
       "      <td>49</td>\n",
       "      <td>42</td>\n",
       "    </tr>\n",
       "    <tr>\n",
       "      <th>4</th>\n",
       "      <td>7375</td>\n",
       "      <td>2</td>\n",
       "      <td>2</td>\n",
       "      <td>3</td>\n",
       "      <td>1</td>\n",
       "      <td>7</td>\n",
       "      <td>5</td>\n",
       "      <td>3</td>\n",
       "      <td>2</td>\n",
       "      <td>4</td>\n",
       "      <td>...</td>\n",
       "      <td>1</td>\n",
       "      <td>98</td>\n",
       "      <td>2</td>\n",
       "      <td>2</td>\n",
       "      <td>-2</td>\n",
       "      <td>0</td>\n",
       "      <td>0</td>\n",
       "      <td>1</td>\n",
       "      <td>49</td>\n",
       "      <td>42</td>\n",
       "    </tr>\n",
       "  </tbody>\n",
       "</table>\n",
       "<p>5 rows × 32 columns</p>\n",
       "</div>"
      ],
      "text/plain": [
       "   PUF_ID  agecat  PPEDUC  PPETHM  PPGENDER  PPINCIMP  PPHHSIZE  fpl  PPREG4  \\\n",
       "0   10350       8       4       1         1         7         1    3       4   \n",
       "1    7740       3       2       1         1         6         2    3       2   \n",
       "2   13699       3       3       2         1         6         3    3       4   \n",
       "3    7267       3       2       1         1         8         1    3       3   \n",
       "4    7375       2       2       3         1         7         5    3       2   \n",
       "\n",
       "   PPREG9   ...     AUTOMATED_2  SAVINGSRANGES  HOUSING  HOUSERANGES  \\\n",
       "0       8   ...               0              6        1            4   \n",
       "1       3   ...               0              2        1            4   \n",
       "2       9   ...               1              4        1            3   \n",
       "3       7   ...              -1             -1       -1           99   \n",
       "4       4   ...               1             98        2            2   \n",
       "\n",
       "   MORTGAGE  PRODHAVE_8  PRODUSE_1  PRODUSE_2  FWBscore  FSscore  \n",
       "0         2           0          0          0        55       44  \n",
       "1         2           0          0          0        51       43  \n",
       "2         2           0          0          0        49       42  \n",
       "3        -2           0          0          0        49       42  \n",
       "4        -2           0          0          1        49       42  \n",
       "\n",
       "[5 rows x 32 columns]"
      ]
     },
     "execution_count": 6,
     "metadata": {},
     "output_type": "execute_result"
    }
   ],
   "source": [
    "cfpb_filtered_df = cfpb_df.loc[:,columns_of_interest]\n",
    "cfpb_filtered_df.head()"
   ]
  },
  {
   "cell_type": "markdown",
   "metadata": {},
   "source": [
    "## What's the correlation between financial knowledge and financial well-being, as measured by different indicators?"
   ]
  },
  {
   "cell_type": "code",
   "execution_count": 7,
   "metadata": {},
   "outputs": [],
   "source": [
    "# Financial knowledge variables\n",
    "fin_know_cols = ['FSscore','FS2_3','SUBKNOWL1']\n",
    "\n",
    "# Financial well-being variables\n",
    "fin_wb_cols = ['FWBscore','FWB1_1','FWB1_5','fpl']\n",
    "homeown_cols = ['HOUSING','HOUSERANGES','MORTGAGE']\n",
    "income_cols = ['PPINCIMP']\n",
    "debt_cols = ['PRODHAVE_8','PRODUSE_1','PRODUSE_2','MANAGE1_1','MANAGE1_3']\n",
    "savings_cols = ['SAVEHABIT','SAVINGSRANGES']"
   ]
  },
  {
   "cell_type": "markdown",
   "metadata": {},
   "source": [
    "#### ======== I. Financial knowledge -> Financial well-being score ========"
   ]
  },
  {
   "cell_type": "code",
   "execution_count": 8,
   "metadata": {},
   "outputs": [
    {
     "data": {
      "text/html": [
       "<div>\n",
       "<style scoped>\n",
       "    .dataframe tbody tr th:only-of-type {\n",
       "        vertical-align: middle;\n",
       "    }\n",
       "\n",
       "    .dataframe tbody tr th {\n",
       "        vertical-align: top;\n",
       "    }\n",
       "\n",
       "    .dataframe thead th {\n",
       "        text-align: right;\n",
       "    }\n",
       "</style>\n",
       "<table border=\"1\" class=\"dataframe\">\n",
       "  <thead>\n",
       "    <tr style=\"text-align: right;\">\n",
       "      <th></th>\n",
       "      <th>FSscore</th>\n",
       "      <th>FS2_3</th>\n",
       "      <th>SUBKNOWL1</th>\n",
       "      <th>FWBscore</th>\n",
       "      <th>FWB1_1</th>\n",
       "      <th>FWB1_5</th>\n",
       "      <th>fpl</th>\n",
       "    </tr>\n",
       "  </thead>\n",
       "  <tbody>\n",
       "    <tr>\n",
       "      <th>0</th>\n",
       "      <td>44</td>\n",
       "      <td>4</td>\n",
       "      <td>5</td>\n",
       "      <td>55</td>\n",
       "      <td>3</td>\n",
       "      <td>2</td>\n",
       "      <td>3</td>\n",
       "    </tr>\n",
       "    <tr>\n",
       "      <th>1</th>\n",
       "      <td>43</td>\n",
       "      <td>2</td>\n",
       "      <td>5</td>\n",
       "      <td>51</td>\n",
       "      <td>2</td>\n",
       "      <td>3</td>\n",
       "      <td>3</td>\n",
       "    </tr>\n",
       "    <tr>\n",
       "      <th>2</th>\n",
       "      <td>42</td>\n",
       "      <td>3</td>\n",
       "      <td>5</td>\n",
       "      <td>49</td>\n",
       "      <td>3</td>\n",
       "      <td>3</td>\n",
       "      <td>3</td>\n",
       "    </tr>\n",
       "    <tr>\n",
       "      <th>4</th>\n",
       "      <td>42</td>\n",
       "      <td>3</td>\n",
       "      <td>4</td>\n",
       "      <td>49</td>\n",
       "      <td>3</td>\n",
       "      <td>3</td>\n",
       "      <td>3</td>\n",
       "    </tr>\n",
       "    <tr>\n",
       "      <th>5</th>\n",
       "      <td>57</td>\n",
       "      <td>1</td>\n",
       "      <td>6</td>\n",
       "      <td>67</td>\n",
       "      <td>5</td>\n",
       "      <td>1</td>\n",
       "      <td>3</td>\n",
       "    </tr>\n",
       "  </tbody>\n",
       "</table>\n",
       "</div>"
      ],
      "text/plain": [
       "   FSscore  FS2_3  SUBKNOWL1  FWBscore  FWB1_1  FWB1_5  fpl\n",
       "0       44      4          5        55       3       2    3\n",
       "1       43      2          5        51       2       3    3\n",
       "2       42      3          5        49       3       3    3\n",
       "4       42      3          4        49       3       3    3\n",
       "5       57      1          6        67       5       1    3"
      ]
     },
     "execution_count": 8,
     "metadata": {},
     "output_type": "execute_result"
    }
   ],
   "source": [
    "fk_fwb = cfpb_filtered_df.loc[:,fin_know_cols+fin_wb_cols]\n",
    "fk_fwb = fk_fwb[fk_fwb['FSscore'] > 0]  # Remove NaNs\n",
    "fk_fwb = fk_fwb[fk_fwb['FS2_3'] > 0]  # Remove NaNs\n",
    "fk_fwb = fk_fwb[fk_fwb['SUBKNOWL1'] > 0]  # Remove NaNs\n",
    "fk_fwb = fk_fwb[fk_fwb['FWBscore'] > 0]  # Remove NaNs\n",
    "fk_fwb = fk_fwb[fk_fwb['FWB1_1'] > 0]  # Remove NaNs\n",
    "fk_fwb = fk_fwb[fk_fwb['FWB1_5'] > 0]  # Remove NaNs\n",
    "fk_fwb.head()"
   ]
  },
  {
   "cell_type": "code",
   "execution_count": 11,
   "metadata": {},
   "outputs": [
    {
     "data": {
      "text/plain": [
       "<matplotlib.axes._subplots.AxesSubplot at 0x7fdabe9a8400>"
      ]
     },
     "execution_count": 11,
     "metadata": {},
     "output_type": "execute_result"
    },
    {
     "data": {
      "image/png": "[encoded data removed]",
      "text/plain": [
       "<Figure size 432x288 with 1 Axes>"
      ]
     },
     "metadata": {
      "needs_background": "light"
     },
     "output_type": "display_data"
    }
   ],
   "source": [
    "# FSscore -> FWBscore\n",
    "fk_fwb.plot.scatter(x='FSscore',y='FWBscore')"
   ]
  },
  {
   "cell_type": "code",
   "execution_count": 12,
   "metadata": {},
   "outputs": [
    {
     "data": {
      "text/plain": [
       "0.49412541650151987"
      ]
     },
     "execution_count": 12,
     "metadata": {},
     "output_type": "execute_result"
    }
   ],
   "source": [
    "np.corrcoef(fk_fwb['FSscore'],fk_fwb['FWBscore'])[0,1]"
   ]
  },
  {
   "cell_type": "code",
   "execution_count": 31,
   "metadata": {
    "scrolled": true
   },
   "outputs": [
    {
     "data": {
      "text/plain": [
       "Text(0.5,1,'I could handle a major unexpected expense. vs. Financial Skill Score')"
      ]
     },
     "execution_count": 31,
     "metadata": {},
     "output_type": "execute_result"
    },
    {
     "data": {
      "image/png": "[encoded data removed]",
      "text/plain": [
       "<Figure size 432x288 with 1 Axes>"
      ]
     },
     "metadata": {
      "needs_background": "light"
     },
     "output_type": "display_data"
    }
   ],
   "source": [
    "# FSscore -> FWB1_1\n",
    "temp_data = fk_fwb.sort_values('FWB1_1').replace(value_map)\n",
    "plt.figure()\n",
    "sns.boxplot(x='FWB1_1',y='FSscore',data=temp_data\n",
    "           ).set_title(col_map['FWB1_1']+' vs. Financial Skill Score')"
   ]
  },
  {
   "cell_type": "code",
   "execution_count": 35,
   "metadata": {},
   "outputs": [
    {
     "data": {
      "text/plain": [
       "0.49285346847486727"
      ]
     },
     "execution_count": 35,
     "metadata": {},
     "output_type": "execute_result"
    }
   ],
   "source": [
    "np.corrcoef(fk_fwb['FSscore'],fk_fwb['FWB1_1'])[0,1]"
   ]
  },
  {
   "cell_type": "code",
   "execution_count": 32,
   "metadata": {},
   "outputs": [
    {
     "data": {
      "text/plain": [
       "Text(0.5,1,'I am just getting by financially vs. Financial Skill Score')"
      ]
     },
     "execution_count": 32,
     "metadata": {},
     "output_type": "execute_result"
    },
    {
     "data": {
      "image/png": "[encoded data removed]",
      "text/plain": [
       "<Figure size 432x288 with 1 Axes>"
      ]
     },
     "metadata": {
      "needs_background": "light"
     },
     "output_type": "display_data"
    }
   ],
   "source": [
    "# FSscore -> FWB1_5\n",
    "temp_data = fk_fwb.sort_values('FWB1_5').replace(value_map)\n",
    "plt.figure()\n",
    "sns.boxplot(x='FWB1_5',y='FSscore',data=temp_data\n",
    "           ).set_title(col_map['FWB1_5']+' vs. Financial Skill Score')"
   ]
  },
  {
   "cell_type": "code",
   "execution_count": 36,
   "metadata": {},
   "outputs": [
    {
     "data": {
      "text/plain": [
       "-0.27214905860155825"
      ]
     },
     "execution_count": 36,
     "metadata": {},
     "output_type": "execute_result"
    }
   ],
   "source": [
    "np.corrcoef(fk_fwb['FSscore'],fk_fwb['FWB1_5'])[0,1]"
   ]
  },
  {
   "cell_type": "code",
   "execution_count": 33,
   "metadata": {},
   "outputs": [
    {
     "data": {
      "text/plain": [
       "Text(0.5,1,'Federal Poverty Level vs. Financial Skill Score')"
      ]
     },
     "execution_count": 33,
     "metadata": {},
     "output_type": "execute_result"
    },
    {
     "data": {
      "image/png": "[encoded data removed]",
      "text/plain": [
       "<Figure size 432x288 with 1 Axes>"
      ]
     },
     "metadata": {
      "needs_background": "light"
     },
     "output_type": "display_data"
    }
   ],
   "source": [
    "# FSscore -> fpl\n",
    "temp_data = fk_fwb.sort_values('fpl').replace(value_map)\n",
    "plt.figure()\n",
    "sns.boxplot(x='fpl',y='FSscore',data=temp_data\n",
    "           ).set_title(col_map['fpl']+' vs. Financial Skill Score')"
   ]
  },
  {
   "cell_type": "code",
   "execution_count": 37,
   "metadata": {
    "scrolled": true
   },
   "outputs": [
    {
     "data": {
      "text/plain": [
       "0.15791056632609465"
      ]
     },
     "execution_count": 37,
     "metadata": {},
     "output_type": "execute_result"
    }
   ],
   "source": [
    "np.corrcoef(fk_fwb['FSscore'],fk_fwb['fpl'])[0,1]"
   ]
  },
  {
   "cell_type": "markdown",
   "metadata": {},
   "source": [
    "Findings..."
   ]
  },
  {
   "cell_type": "markdown",
   "metadata": {},
   "source": [
    "#### ======== II. Financial knowledge -> Homeownership ========"
   ]
  },
  {
   "cell_type": "code",
   "execution_count": 39,
   "metadata": {},
   "outputs": [],
   "source": [
    "fk_home = cfpb_filtered_df.loc[:,fin_know_cols+homeown_cols]\n",
    "fk_home = fk_home[fk_home['FSscore'] > 0]  # Remove NaNs\n",
    "fk_home = fk_home[fk_home['FS2_3'] > 0]  # Remove NaNs\n",
    "fk_home = fk_home[fk_home['SUBKNOWL1'] > 0]  # Remove NaNs\n",
    "fk_home = fk_home[fk_home['HOUSING'] > 0]  # Remove NaNs\n",
    "fk_home = fk_home[fk_home['HOUSERANGES'] > 0]  # Remove NaNs\n",
    "fk_home = fk_home[fk_home['HOUSERANGES'] < 90]  # Remove NaNs\n",
    "fk_home = fk_home[fk_home['MORTGAGE'] != -1]  # Remove NaNs\n",
    "fk_home = fk_home[fk_home['MORTGAGE'] < 90]  # Remove NaNs"
   ]
  },
  {
   "cell_type": "code",
   "execution_count": 42,
   "metadata": {},
   "outputs": [
    {
     "data": {
      "text/plain": [
       "Text(0.5,1,'Which one of the following best describes your housing situation? vs. Financial Skill Score')"
      ]
     },
     "execution_count": 42,
     "metadata": {},
     "output_type": "execute_result"
    },
    {
     "data": {
      "image/png": "[encoded data removed]",
      "text/plain": [
       "<Figure size 432x288 with 1 Axes>"
      ]
     },
     "metadata": {
      "needs_background": "light"
     },
     "output_type": "display_data"
    }
   ],
   "source": [
    "# FSscore -> HOUSING\n",
    "temp_data = fk_home.sort_values('HOUSING').replace(value_map)\n",
    "plt.figure()\n",
    "sns.boxplot(x='HOUSING',y='FSscore',data=temp_data\n",
    "           ).set_title(col_map['HOUSING']+' vs. Financial Skill Score')"
   ]
  },
  {
   "cell_type": "code",
   "execution_count": 57,
   "metadata": {},
   "outputs": [
    {
     "data": {
      "text/plain": [
       "-0.17093294965080927"
      ]
     },
     "execution_count": 57,
     "metadata": {},
     "output_type": "execute_result"
    }
   ],
   "source": [
    "np.corrcoef(fk_home['FSscore'],fk_home['HOUSING'])[0,1]"
   ]
  },
  {
   "cell_type": "code",
   "execution_count": 54,
   "metadata": {
    "scrolled": false
   },
   "outputs": [
    {
     "data": {
      "text/plain": [
       "Text(0.5,1,'About how much do you pay for your home each month? vs. Financial Skill Score')"
      ]
     },
     "execution_count": 54,
     "metadata": {},
     "output_type": "execute_result"
    },
    {
     "data": {
      "image/png": "[encoded data removed]",
      "text/plain": [
       "<Figure size 432x288 with 1 Axes>"
      ]
     },
     "metadata": {
      "needs_background": "light"
     },
     "output_type": "display_data"
    }
   ],
   "source": [
    "# FSscore -> HOUSERANGES\n",
    "temp_data = fk_home.sort_values('HOUSERANGES').replace(value_map)\n",
    "plt.figure()\n",
    "ax = sns.boxplot(x='HOUSERANGES',y='FSscore',data=temp_data)\n",
    "plt.setp(ax.get_xticklabels(),rotation=45)\n",
    "ax.set_title(col_map['HOUSERANGES']+' vs. Financial Skill Score')"
   ]
  },
  {
   "cell_type": "code",
   "execution_count": 58,
   "metadata": {},
   "outputs": [
    {
     "data": {
      "text/plain": [
       "0.01316915590583048"
      ]
     },
     "execution_count": 58,
     "metadata": {},
     "output_type": "execute_result"
    }
   ],
   "source": [
    "np.corrcoef(fk_home['FSscore'],fk_home['HOUSERANGES'])[0,1]"
   ]
  },
  {
   "cell_type": "code",
   "execution_count": 55,
   "metadata": {
    "scrolled": false
   },
   "outputs": [
    {
     "data": {
      "text/plain": [
       "Text(0.5,1,'What do you owe on your home? vs. Financial Skill Score')"
      ]
     },
     "execution_count": 55,
     "metadata": {},
     "output_type": "execute_result"
    },
    {
     "data": {
      "image/png": "[encoded data removed]",
      "text/plain": [
       "<Figure size 432x288 with 1 Axes>"
      ]
     },
     "metadata": {
      "needs_background": "light"
     },
     "output_type": "display_data"
    }
   ],
   "source": [
    "# FSscore -> MORTGAGE\n",
    "temp_data = fk_home.sort_values('MORTGAGE').replace(value_map)\n",
    "plt.figure()\n",
    "ax = sns.boxplot(x='MORTGAGE',y='FSscore',data=temp_data)\n",
    "plt.setp(ax.get_xticklabels(),rotation=45)\n",
    "ax.set_title(col_map['MORTGAGE']+' vs. Financial Skill Score')"
   ]
  },
  {
   "cell_type": "code",
   "execution_count": 59,
   "metadata": {
    "scrolled": true
   },
   "outputs": [
    {
     "data": {
      "text/plain": [
       "0.16506624126213343"
      ]
     },
     "execution_count": 59,
     "metadata": {},
     "output_type": "execute_result"
    }
   ],
   "source": [
    "np.corrcoef(fk_home['FSscore'],fk_home['MORTGAGE'])[0,1]"
   ]
  },
  {
   "cell_type": "markdown",
   "metadata": {},
   "source": [
    "Findings..."
   ]
  },
  {
   "cell_type": "markdown",
   "metadata": {},
   "source": [
    "#### ======== III. Financial knowledge -> Debt ========"
   ]
  },
  {
   "cell_type": "code",
   "execution_count": 66,
   "metadata": {},
   "outputs": [],
   "source": [
    "fk_debt = cfpb_filtered_df.loc[:,fin_know_cols+debt_cols]\n",
    "fk_debt = fk_debt[fk_debt['FSscore'] > 0]  # Remove NaNs\n",
    "fk_debt = fk_debt[fk_debt['FS2_3'] > 0]  # Remove NaNs\n",
    "fk_debt = fk_debt[fk_debt['SUBKNOWL1'] > 0]  # Remove NaNs\n",
    "fk_debt = fk_debt[fk_debt['MANAGE1_1'] > 0]  # Remove NaNs\n",
    "fk_debt = fk_debt[fk_debt['MANAGE1_3'] > 0]  # Remove NaNs"
   ]
  },
  {
   "cell_type": "code",
   "execution_count": 68,
   "metadata": {
    "scrolled": true
   },
   "outputs": [
    {
     "data": {
      "text/plain": [
       "Text(0.5,1,'Student/Education Loan (for yourself or someone else) vs. Financial Skill Score')"
      ]
     },
     "execution_count": 68,
     "metadata": {},
     "output_type": "execute_result"
    },
    {
     "data": {
      "image/png": "[encoded data removed]",
      "text/plain": [
       "<Figure size 432x288 with 1 Axes>"
      ]
     },
     "metadata": {
      "needs_background": "light"
     },
     "output_type": "display_data"
    }
   ],
   "source": [
    "# FSscore -> PRODHAVE_8\n",
    "temp_data = fk_debt.sort_values('PRODHAVE_8').replace(value_map)\n",
    "plt.figure()\n",
    "ax = sns.boxplot(x='PRODHAVE_8',y='FSscore',data=temp_data)\n",
    "ax.set_title(col_map['PRODHAVE_8']+' vs. Financial Skill Score')"
   ]
  },
  {
   "cell_type": "code",
   "execution_count": 77,
   "metadata": {},
   "outputs": [
    {
     "data": {
      "text/plain": [
       "-0.048099161125668734"
      ]
     },
     "execution_count": 77,
     "metadata": {},
     "output_type": "execute_result"
    }
   ],
   "source": [
    "np.corrcoef(fk_debt['FSscore'],fk_debt['PRODHAVE_8'])[0,1]"
   ]
  },
  {
   "cell_type": "code",
   "execution_count": 71,
   "metadata": {
    "scrolled": true
   },
   "outputs": [
    {
     "data": {
      "text/plain": [
       "Text(0.5,1,'Used payday loan or cash advance loan vs. Financial Skill Score')"
      ]
     },
     "execution_count": 71,
     "metadata": {},
     "output_type": "execute_result"
    },
    {
     "data": {
      "image/png": "[encoded data removed]",
      "text/plain": [
       "<Figure size 432x288 with 1 Axes>"
      ]
     },
     "metadata": {
      "needs_background": "light"
     },
     "output_type": "display_data"
    }
   ],
   "source": [
    "# FSscore -> PRODUSE_1\n",
    "temp_data = fk_debt.sort_values('PRODUSE_1').replace(value_map)\n",
    "plt.figure()\n",
    "ax = sns.boxplot(x='PRODUSE_1',y='FSscore',data=temp_data)\n",
    "ax.set_title(col_map['PRODUSE_1']+' vs. Financial Skill Score')"
   ]
  },
  {
   "cell_type": "code",
   "execution_count": 78,
   "metadata": {},
   "outputs": [
    {
     "data": {
      "text/plain": [
       "-0.076381297591166533"
      ]
     },
     "execution_count": 78,
     "metadata": {},
     "output_type": "execute_result"
    }
   ],
   "source": [
    "np.corrcoef(fk_debt['FSscore'],fk_debt['PRODUSE_1'])[0,1]"
   ]
  },
  {
   "cell_type": "code",
   "execution_count": 72,
   "metadata": {},
   "outputs": [
    {
     "data": {
      "text/plain": [
       "Text(0.5,1,'Used pawn loan or auto title loan vs. Financial Skill Score')"
      ]
     },
     "execution_count": 72,
     "metadata": {},
     "output_type": "execute_result"
    },
    {
     "data": {
      "image/png": "[encoded data removed]",
      "text/plain": [
       "<Figure size 432x288 with 1 Axes>"
      ]
     },
     "metadata": {
      "needs_background": "light"
     },
     "output_type": "display_data"
    }
   ],
   "source": [
    "# FSscore -> PRODUSE_2\n",
    "temp_data = fk_debt.sort_values('PRODUSE_2').replace(value_map)\n",
    "plt.figure()\n",
    "ax = sns.boxplot(x='PRODUSE_2',y='FSscore',data=temp_data)\n",
    "ax.set_title(col_map['PRODUSE_2']+' vs. Financial Skill Score')"
   ]
  },
  {
   "cell_type": "code",
   "execution_count": 79,
   "metadata": {},
   "outputs": [
    {
     "data": {
      "text/plain": [
       "-0.063296851655703437"
      ]
     },
     "execution_count": 79,
     "metadata": {},
     "output_type": "execute_result"
    }
   ],
   "source": [
    "np.corrcoef(fk_debt['FSscore'],fk_debt['PRODUSE_2'])[0,1]"
   ]
  },
  {
   "cell_type": "code",
   "execution_count": 74,
   "metadata": {},
   "outputs": [
    {
     "data": {
      "text/plain": [
       "Text(0.5,1,'Paid all your bills on time vs. Financial Skill Score')"
      ]
     },
     "execution_count": 74,
     "metadata": {},
     "output_type": "execute_result"
    },
    {
     "data": {
      "image/png": "[encoded data removed]",
      "text/plain": [
       "<Figure size 432x288 with 1 Axes>"
      ]
     },
     "metadata": {
      "needs_background": "light"
     },
     "output_type": "display_data"
    }
   ],
   "source": [
    "# FSscore -> MANAGE1_1\n",
    "temp_data = fk_debt.sort_values('MANAGE1_1').replace(value_map)\n",
    "plt.figure()\n",
    "ax = sns.boxplot(x='MANAGE1_1',y='FSscore',data=temp_data)\n",
    "plt.setp(ax.get_xticklabels(),rotation=45)\n",
    "ax.set_title(col_map['MANAGE1_1']+' vs. Financial Skill Score')"
   ]
  },
  {
   "cell_type": "code",
   "execution_count": 80,
   "metadata": {},
   "outputs": [
    {
     "data": {
      "text/plain": [
       "0.32546000668700376"
      ]
     },
     "execution_count": 80,
     "metadata": {},
     "output_type": "execute_result"
    }
   ],
   "source": [
    "np.corrcoef(fk_debt['FSscore'],fk_debt['MANAGE1_1'])[0,1]"
   ]
  },
  {
   "cell_type": "code",
   "execution_count": 76,
   "metadata": {},
   "outputs": [
    {
     "data": {
      "text/plain": [
       "Text(0.5,1,'Paid off credit card balance in full vs. Financial Skill Score')"
      ]
     },
     "execution_count": 76,
     "metadata": {},
     "output_type": "execute_result"
    },
    {
     "data": {
      "image/png": "[encoded data removed]",
      "text/plain": [
       "<Figure size 432x288 with 1 Axes>"
      ]
     },
     "metadata": {
      "needs_background": "light"
     },
     "output_type": "display_data"
    }
   ],
   "source": [
    "# FSscore -> MANAGE1_3\n",
    "temp_data = fk_debt.sort_values('MANAGE1_3').replace(value_map)\n",
    "plt.figure()\n",
    "ax = sns.boxplot(x='MANAGE1_3',y='FSscore',data=temp_data)\n",
    "plt.setp(ax.get_xticklabels(),rotation=45)\n",
    "ax.set_title(col_map['MANAGE1_3']+' vs. Financial Skill Score')"
   ]
  },
  {
   "cell_type": "code",
   "execution_count": 81,
   "metadata": {},
   "outputs": [
    {
     "data": {
      "text/plain": [
       "0.37342611646191426"
      ]
     },
     "execution_count": 81,
     "metadata": {},
     "output_type": "execute_result"
    }
   ],
   "source": [
    "np.corrcoef(fk_debt['FSscore'],fk_debt['MANAGE1_3'])[0,1]"
   ]
  },
  {
   "cell_type": "markdown",
   "metadata": {},
   "source": [
    "Key findings..."
   ]
  },
  {
   "cell_type": "markdown",
   "metadata": {},
   "source": [
    "#### ======== IV. Financial knowledge -> Savings ========"
   ]
  },
  {
   "cell_type": "code",
   "execution_count": 85,
   "metadata": {},
   "outputs": [],
   "source": [
    "fk_sv = cfpb_filtered_df.loc[:,fin_know_cols+savings_cols]\n",
    "fk_sv = fk_sv[fk_sv['FSscore'] > 0]  # Remove NaNs\n",
    "fk_sv = fk_sv[fk_sv['FS2_3'] > 0]  # Remove NaNs\n",
    "fk_sv = fk_sv[fk_sv['SUBKNOWL1'] > 0]  # Remove NaNs\n",
    "fk_sv = fk_sv[fk_sv['SAVEHABIT'] > 0]  # Remove NaNs\n",
    "fk_sv = fk_sv[fk_sv['SAVINGSRANGES'] > 0]  # Remove NaNs\n",
    "fk_sv = fk_sv[fk_sv['SAVINGSRANGES'] < 90]  # Remove NaNs"
   ]
  },
  {
   "cell_type": "code",
   "execution_count": 87,
   "metadata": {},
   "outputs": [
    {
     "data": {
      "text/plain": [
       "Text(0.5,1,'Putting money into savings is a habit for me vs. Financial Skill Score')"
      ]
     },
     "execution_count": 87,
     "metadata": {},
     "output_type": "execute_result"
    },
    {
     "data": {
      "image/png": "[encoded data removed]",
      "text/plain": [
       "<Figure size 432x288 with 1 Axes>"
      ]
     },
     "metadata": {
      "needs_background": "light"
     },
     "output_type": "display_data"
    }
   ],
   "source": [
    "# FSscore -> SAVEHABIT\n",
    "temp_data = fk_sv.sort_values('SAVEHABIT').replace(value_map)\n",
    "plt.figure()\n",
    "ax = sns.boxplot(x='SAVEHABIT',y='FSscore',data=temp_data)\n",
    "plt.setp(ax.get_xticklabels(),rotation=45)\n",
    "ax.set_title(col_map['SAVEHABIT']+' vs. Financial Skill Score')"
   ]
  },
  {
   "cell_type": "code",
   "execution_count": 89,
   "metadata": {},
   "outputs": [
    {
     "data": {
      "text/plain": [
       "0.47845661927939909"
      ]
     },
     "execution_count": 89,
     "metadata": {},
     "output_type": "execute_result"
    }
   ],
   "source": [
    "np.corrcoef(fk_sv['FSscore'],fk_sv['SAVEHABIT'])[0,1]"
   ]
  },
  {
   "cell_type": "code",
   "execution_count": 88,
   "metadata": {},
   "outputs": [
    {
     "data": {
      "text/plain": [
       "Text(0.5,1,'How much money do you have in savings today? vs. Financial Skill Score')"
      ]
     },
     "execution_count": 88,
     "metadata": {},
     "output_type": "execute_result"
    },
    {
     "data": {
      "image/png": "[encoded data removed]",
      "text/plain": [
       "<Figure size 432x288 with 1 Axes>"
      ]
     },
     "metadata": {
      "needs_background": "light"
     },
     "output_type": "display_data"
    }
   ],
   "source": [
    "# FSscore -> SAVINGSRANGES\n",
    "temp_data = fk_sv.sort_values('SAVINGSRANGES').replace(value_map)\n",
    "plt.figure()\n",
    "ax = sns.boxplot(x='SAVINGSRANGES',y='FSscore',data=temp_data)\n",
    "plt.setp(ax.get_xticklabels(),rotation=45)\n",
    "ax.set_title(col_map['SAVINGSRANGES']+' vs. Financial Skill Score')"
   ]
  },
  {
   "cell_type": "code",
   "execution_count": 90,
   "metadata": {},
   "outputs": [
    {
     "data": {
      "text/plain": [
       "0.36299303287523277"
      ]
     },
     "execution_count": 90,
     "metadata": {},
     "output_type": "execute_result"
    }
   ],
   "source": [
    "np.corrcoef(fk_sv['FSscore'],fk_sv['SAVINGSRANGES'])[0,1]"
   ]
  },
  {
   "cell_type": "markdown",
   "metadata": {},
   "source": [
    "Key findings..."
   ]
  },
  {
   "cell_type": "markdown",
   "metadata": {},
   "source": [
    "## Does financial knowledge have any relationship with a sub-population's financial well-being? Does it differ from the general population?"
   ]
  },
  {
   "cell_type": "code",
   "execution_count": 91,
   "metadata": {},
   "outputs": [],
   "source": [
    "demographic_cols = ['PUF_ID','PPGENDER','PPETHM','agecat','PPEDUC',\n",
    "                    'PPHHSIZE','PPREG4','PPREG9']"
   ]
  },
  {
   "cell_type": "markdown",
   "metadata": {},
   "source": [
    "#### ======== I. Financial knowledge -> Financial well-being ========"
   ]
  },
  {
   "cell_type": "code",
   "execution_count": null,
   "metadata": {},
   "outputs": [],
   "source": []
  },
  {
   "cell_type": "markdown",
   "metadata": {},
   "source": [
    "#### ======== II. Financial knowledge -> Housing ========"
   ]
  },
  {
   "cell_type": "code",
   "execution_count": null,
   "metadata": {},
   "outputs": [],
   "source": []
  },
  {
   "cell_type": "markdown",
   "metadata": {},
   "source": [
    "#### ======== III. Financial knowledge -> Debt ========"
   ]
  },
  {
   "cell_type": "code",
   "execution_count": null,
   "metadata": {},
   "outputs": [],
   "source": []
  },
  {
   "cell_type": "markdown",
   "metadata": {},
   "source": [
    "#### ======== IV. Financial knowledge -> Savings ========"
   ]
  },
  {
   "cell_type": "code",
   "execution_count": null,
   "metadata": {},
   "outputs": [],
   "source": []
  },
  {
   "cell_type": "markdown",
   "metadata": {},
   "source": [
    "## If there is a difference, is there additional data we can explore? Is there a possible explanation or reasoning for such difference?"
   ]
  },
  {
   "cell_type": "code",
   "execution_count": null,
   "metadata": {},
   "outputs": [],
   "source": []
  },
  {
   "cell_type": "markdown",
   "metadata": {},
   "source": [
    "## What conclusions can we draw?"
   ]
  },
  {
   "cell_type": "code",
   "execution_count": null,
   "metadata": {},
   "outputs": [],
   "source": []
  },
  {
   "cell_type": "markdown",
   "metadata": {},
   "source": [
    "## Are there any recommendations we can make to public and private institutions to efficiently allocate resources to make the largest difference for the groups observed?"
   ]
  },
  {
   "cell_type": "code",
   "execution_count": null,
   "metadata": {},
   "outputs": [],
   "source": []
  }
 ],
 "metadata": {
  "kernelspec": {
   "display_name": "Python 3",
   "language": "python",
   "name": "python3"
  },
  "language_info": {
   "codemirror_mode": {
    "name": "ipython",
    "version": 3
   },
   "file_extension": ".py",
   "mimetype": "text/x-python",
   "name": "python",
   "nbconvert_exporter": "python",
   "pygments_lexer": "ipython3",
   "version": "3.6.7"
  }
 },
 "nbformat": 4,
 "nbformat_minor": 2
}
