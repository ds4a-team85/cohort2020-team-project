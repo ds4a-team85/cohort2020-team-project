{
 "cells": [
  {
   "cell_type": "markdown",
   "metadata": {},
   "source": [
    "##### *please correct my horrible spelling*"
   ]
  },
  {
   "cell_type": "markdown",
   "metadata": {},
   "source": [
    "12/20 update:\n",
    "What is currently in col_map are the only columns that are in both the CSV files that can be combined after some more cleaning. There are other columns that can be brought together but they were not present in one of the two CSV files, and so we need to make a new CSV file that contains the columns that were excluded before that we want to work with.<br>\n",
    "I think we should get together and discuss the columns that are missing and what we should do, and then from there create a new CSV with the columns we want to use and make them look pretty. "
   ]
  },
  {
   "cell_type": "markdown",
   "metadata": {},
   "source": [
    "# Bringing over the data"
   ]
  },
  {
   "cell_type": "code",
   "execution_count": 2,
   "metadata": {},
   "outputs": [],
   "source": [
    "import pandas as pd\n",
    "import numpy as np\n",
    "import matplotlib.pyplot as plt\n",
    "import seaborn as sns"
   ]
  },
  {
   "cell_type": "code",
   "execution_count": 3,
   "metadata": {},
   "outputs": [],
   "source": [
    "FINRA_df = pd.read_csv(\"FINRA_CLEANED_DF.csv\")\n",
    "CFPB_MAPPED = pd.read_csv(\"CFPB_MAPPED.csv\")\n",
    "CFPB_UNMAPPED = pd.read_csv(\"CFPB_UNMAPPED.csv\")"
   ]
  },
  {
   "cell_type": "code",
   "execution_count": 5,
   "metadata": {},
   "outputs": [],
   "source": [
    "FINRA_df = FINRA_df.drop(columns = ['Unnamed: 0'])\n",
    "#FINRA_df"
   ]
  },
  {
   "cell_type": "code",
   "execution_count": 6,
   "metadata": {},
   "outputs": [],
   "source": [
    "CFPB_UNMAPPED = CFPB_UNMAPPED.drop(columns = ['Unnamed: 0'])\n",
    "#CFPB_UNMAPPED"
   ]
  },
  {
   "cell_type": "code",
   "execution_count": 4,
   "metadata": {},
   "outputs": [
    {
     "data": {
      "text/html": [
       "<div>\n",
       "<style scoped>\n",
       "    .dataframe tbody tr th:only-of-type {\n",
       "        vertical-align: middle;\n",
       "    }\n",
       "\n",
       "    .dataframe tbody tr th {\n",
       "        vertical-align: top;\n",
       "    }\n",
       "\n",
       "    .dataframe thead th {\n",
       "        text-align: right;\n",
       "    }\n",
       "</style>\n",
       "<table border=\"1\" class=\"dataframe\">\n",
       "  <thead>\n",
       "    <tr style=\"text-align: right;\">\n",
       "      <th></th>\n",
       "      <th>PUF_ID</th>\n",
       "      <th>Age Group</th>\n",
       "      <th>Education (Highest Degree)</th>\n",
       "      <th>Race/Ethnicity</th>\n",
       "      <th>Gender</th>\n",
       "      <th>Household Income</th>\n",
       "      <th>Household Size</th>\n",
       "      <th>Federal Poverty Level</th>\n",
       "      <th>Census Region</th>\n",
       "      <th>Census Division</th>\n",
       "      <th>...</th>\n",
       "      <th>A Non-Retirement Savings Account</th>\n",
       "      <th>How much money do you have in savings today?</th>\n",
       "      <th>Which one of the following best describes your housing situation?</th>\n",
       "      <th>About how much do you pay for your home each month?</th>\n",
       "      <th>What do you owe on your home?</th>\n",
       "      <th>Student/Education Loan (for yourself or someone else)</th>\n",
       "      <th>Used payday loan or cash advance loan</th>\n",
       "      <th>Used pawn loan or auto title loan</th>\n",
       "      <th>Financial Well-Being Scale score</th>\n",
       "      <th>Financial Skill Scale score</th>\n",
       "    </tr>\n",
       "  </thead>\n",
       "  <tbody>\n",
       "    <tr>\n",
       "      <th>0</th>\n",
       "      <td>10350</td>\n",
       "      <td>75+</td>\n",
       "      <td>Bachelors degree</td>\n",
       "      <td>White, Non-Hispanic</td>\n",
       "      <td>Male</td>\n",
       "      <td>$75,000 to $99,999</td>\n",
       "      <td>1</td>\n",
       "      <td>200%+ FPL</td>\n",
       "      <td>West</td>\n",
       "      <td>Mountain</td>\n",
       "      <td>...</td>\n",
       "      <td>0</td>\n",
       "      <td>6</td>\n",
       "      <td>1</td>\n",
       "      <td>4</td>\n",
       "      <td>2</td>\n",
       "      <td>0</td>\n",
       "      <td>0</td>\n",
       "      <td>0</td>\n",
       "      <td>55</td>\n",
       "      <td>44</td>\n",
       "    </tr>\n",
       "    <tr>\n",
       "      <th>1</th>\n",
       "      <td>7740</td>\n",
       "      <td>35-44</td>\n",
       "      <td>High school degree/GED</td>\n",
       "      <td>White, Non-Hispanic</td>\n",
       "      <td>Male</td>\n",
       "      <td>$60,000 to $74,999</td>\n",
       "      <td>2</td>\n",
       "      <td>200%+ FPL</td>\n",
       "      <td>Midwest</td>\n",
       "      <td>East-North Central</td>\n",
       "      <td>...</td>\n",
       "      <td>0</td>\n",
       "      <td>2</td>\n",
       "      <td>1</td>\n",
       "      <td>4</td>\n",
       "      <td>2</td>\n",
       "      <td>0</td>\n",
       "      <td>0</td>\n",
       "      <td>0</td>\n",
       "      <td>51</td>\n",
       "      <td>43</td>\n",
       "    </tr>\n",
       "    <tr>\n",
       "      <th>2</th>\n",
       "      <td>13699</td>\n",
       "      <td>35-44</td>\n",
       "      <td>Some college/Associate</td>\n",
       "      <td>Black, Non-Hispanic</td>\n",
       "      <td>Male</td>\n",
       "      <td>$60,000 to $74,999</td>\n",
       "      <td>3</td>\n",
       "      <td>200%+ FPL</td>\n",
       "      <td>West</td>\n",
       "      <td>Pacific</td>\n",
       "      <td>...</td>\n",
       "      <td>1</td>\n",
       "      <td>4</td>\n",
       "      <td>1</td>\n",
       "      <td>3</td>\n",
       "      <td>2</td>\n",
       "      <td>0</td>\n",
       "      <td>0</td>\n",
       "      <td>0</td>\n",
       "      <td>49</td>\n",
       "      <td>42</td>\n",
       "    </tr>\n",
       "    <tr>\n",
       "      <th>3</th>\n",
       "      <td>7267</td>\n",
       "      <td>35-44</td>\n",
       "      <td>High school degree/GED</td>\n",
       "      <td>White, Non-Hispanic</td>\n",
       "      <td>Male</td>\n",
       "      <td>$100,000 to $149,999</td>\n",
       "      <td>1</td>\n",
       "      <td>200%+ FPL</td>\n",
       "      <td>South</td>\n",
       "      <td>West-South Central</td>\n",
       "      <td>...</td>\n",
       "      <td>-1</td>\n",
       "      <td>-1</td>\n",
       "      <td>-1</td>\n",
       "      <td>99</td>\n",
       "      <td>-2</td>\n",
       "      <td>0</td>\n",
       "      <td>0</td>\n",
       "      <td>0</td>\n",
       "      <td>49</td>\n",
       "      <td>42</td>\n",
       "    </tr>\n",
       "    <tr>\n",
       "      <th>4</th>\n",
       "      <td>7375</td>\n",
       "      <td>25-34</td>\n",
       "      <td>High school degree/GED</td>\n",
       "      <td>Other, Non-Hispanic</td>\n",
       "      <td>Male</td>\n",
       "      <td>$75,000 to $99,999</td>\n",
       "      <td>5+</td>\n",
       "      <td>200%+ FPL</td>\n",
       "      <td>Midwest</td>\n",
       "      <td>West-North Central</td>\n",
       "      <td>...</td>\n",
       "      <td>1</td>\n",
       "      <td>98</td>\n",
       "      <td>2</td>\n",
       "      <td>2</td>\n",
       "      <td>-2</td>\n",
       "      <td>0</td>\n",
       "      <td>0</td>\n",
       "      <td>1</td>\n",
       "      <td>49</td>\n",
       "      <td>42</td>\n",
       "    </tr>\n",
       "    <tr>\n",
       "      <th>...</th>\n",
       "      <td>...</td>\n",
       "      <td>...</td>\n",
       "      <td>...</td>\n",
       "      <td>...</td>\n",
       "      <td>...</td>\n",
       "      <td>...</td>\n",
       "      <td>...</td>\n",
       "      <td>...</td>\n",
       "      <td>...</td>\n",
       "      <td>...</td>\n",
       "      <td>...</td>\n",
       "      <td>...</td>\n",
       "      <td>...</td>\n",
       "      <td>...</td>\n",
       "      <td>...</td>\n",
       "      <td>...</td>\n",
       "      <td>...</td>\n",
       "      <td>...</td>\n",
       "      <td>...</td>\n",
       "      <td>...</td>\n",
       "      <td>...</td>\n",
       "    </tr>\n",
       "    <tr>\n",
       "      <th>6389</th>\n",
       "      <td>11220</td>\n",
       "      <td>70-74</td>\n",
       "      <td>Graduate/professional degree</td>\n",
       "      <td>Black, Non-Hispanic</td>\n",
       "      <td>Female</td>\n",
       "      <td>$150,000 or more</td>\n",
       "      <td>3</td>\n",
       "      <td>200%+ FPL</td>\n",
       "      <td>Midwest</td>\n",
       "      <td>East-North Central</td>\n",
       "      <td>...</td>\n",
       "      <td>1</td>\n",
       "      <td>3</td>\n",
       "      <td>1</td>\n",
       "      <td>6</td>\n",
       "      <td>2</td>\n",
       "      <td>0</td>\n",
       "      <td>0</td>\n",
       "      <td>0</td>\n",
       "      <td>61</td>\n",
       "      <td>47</td>\n",
       "    </tr>\n",
       "    <tr>\n",
       "      <th>6390</th>\n",
       "      <td>13118</td>\n",
       "      <td>62-69</td>\n",
       "      <td>High school degree/GED</td>\n",
       "      <td>Black, Non-Hispanic</td>\n",
       "      <td>Male</td>\n",
       "      <td>$30,000 to $39,999</td>\n",
       "      <td>3</td>\n",
       "      <td>100%-199% FPL</td>\n",
       "      <td>South</td>\n",
       "      <td>East-South Central</td>\n",
       "      <td>...</td>\n",
       "      <td>7</td>\n",
       "      <td>99</td>\n",
       "      <td>1</td>\n",
       "      <td>99</td>\n",
       "      <td>99</td>\n",
       "      <td>0</td>\n",
       "      <td>0</td>\n",
       "      <td>0</td>\n",
       "      <td>59</td>\n",
       "      <td>59</td>\n",
       "    </tr>\n",
       "    <tr>\n",
       "      <th>6391</th>\n",
       "      <td>8709</td>\n",
       "      <td>25-34</td>\n",
       "      <td>Graduate/professional degree</td>\n",
       "      <td>White, Non-Hispanic</td>\n",
       "      <td>Female</td>\n",
       "      <td>$150,000 or more</td>\n",
       "      <td>2</td>\n",
       "      <td>200%+ FPL</td>\n",
       "      <td>Northeast</td>\n",
       "      <td>Mid-Atlantic</td>\n",
       "      <td>...</td>\n",
       "      <td>1</td>\n",
       "      <td>6</td>\n",
       "      <td>2</td>\n",
       "      <td>5</td>\n",
       "      <td>-2</td>\n",
       "      <td>1</td>\n",
       "      <td>0</td>\n",
       "      <td>0</td>\n",
       "      <td>59</td>\n",
       "      <td>51</td>\n",
       "    </tr>\n",
       "    <tr>\n",
       "      <th>6392</th>\n",
       "      <td>8515</td>\n",
       "      <td>25-34</td>\n",
       "      <td>High school degree/GED</td>\n",
       "      <td>Hispanic</td>\n",
       "      <td>Male</td>\n",
       "      <td>$40,000 to $49,999</td>\n",
       "      <td>2</td>\n",
       "      <td>200%+ FPL</td>\n",
       "      <td>West</td>\n",
       "      <td>Pacific</td>\n",
       "      <td>...</td>\n",
       "      <td>7</td>\n",
       "      <td>99</td>\n",
       "      <td>2</td>\n",
       "      <td>5</td>\n",
       "      <td>-2</td>\n",
       "      <td>0</td>\n",
       "      <td>0</td>\n",
       "      <td>0</td>\n",
       "      <td>46</td>\n",
       "      <td>54</td>\n",
       "    </tr>\n",
       "    <tr>\n",
       "      <th>6393</th>\n",
       "      <td>8516</td>\n",
       "      <td>35-44</td>\n",
       "      <td>Graduate/professional degree</td>\n",
       "      <td>Black, Non-Hispanic</td>\n",
       "      <td>Male</td>\n",
       "      <td>$40,000 to $49,999</td>\n",
       "      <td>4</td>\n",
       "      <td>100%-199% FPL</td>\n",
       "      <td>South</td>\n",
       "      <td>South Atlantic</td>\n",
       "      <td>...</td>\n",
       "      <td>0</td>\n",
       "      <td>2</td>\n",
       "      <td>2</td>\n",
       "      <td>5</td>\n",
       "      <td>-2</td>\n",
       "      <td>0</td>\n",
       "      <td>0</td>\n",
       "      <td>0</td>\n",
       "      <td>49</td>\n",
       "      <td>42</td>\n",
       "    </tr>\n",
       "  </tbody>\n",
       "</table>\n",
       "<p>6394 rows × 32 columns</p>\n",
       "</div>"
      ],
      "text/plain": [
       "      PUF_ID Age Group    Education (Highest Degree)       Race/Ethnicity  \\\n",
       "0      10350       75+              Bachelors degree  White, Non-Hispanic   \n",
       "1       7740     35-44        High school degree/GED  White, Non-Hispanic   \n",
       "2      13699     35-44        Some college/Associate  Black, Non-Hispanic   \n",
       "3       7267     35-44        High school degree/GED  White, Non-Hispanic   \n",
       "4       7375     25-34        High school degree/GED  Other, Non-Hispanic   \n",
       "...      ...       ...                           ...                  ...   \n",
       "6389   11220     70-74  Graduate/professional degree  Black, Non-Hispanic   \n",
       "6390   13118     62-69        High school degree/GED  Black, Non-Hispanic   \n",
       "6391    8709     25-34  Graduate/professional degree  White, Non-Hispanic   \n",
       "6392    8515     25-34        High school degree/GED             Hispanic   \n",
       "6393    8516     35-44  Graduate/professional degree  Black, Non-Hispanic   \n",
       "\n",
       "      Gender      Household Income Household Size Federal Poverty Level  \\\n",
       "0       Male    $75,000 to $99,999              1             200%+ FPL   \n",
       "1       Male    $60,000 to $74,999              2             200%+ FPL   \n",
       "2       Male    $60,000 to $74,999              3             200%+ FPL   \n",
       "3       Male  $100,000 to $149,999              1             200%+ FPL   \n",
       "4       Male    $75,000 to $99,999             5+             200%+ FPL   \n",
       "...      ...                   ...            ...                   ...   \n",
       "6389  Female      $150,000 or more              3             200%+ FPL   \n",
       "6390    Male    $30,000 to $39,999              3         100%-199% FPL   \n",
       "6391  Female      $150,000 or more              2             200%+ FPL   \n",
       "6392    Male    $40,000 to $49,999              2             200%+ FPL   \n",
       "6393    Male    $40,000 to $49,999              4         100%-199% FPL   \n",
       "\n",
       "     Census Region     Census Division  ... A Non-Retirement Savings Account  \\\n",
       "0             West            Mountain  ...                                0   \n",
       "1          Midwest  East-North Central  ...                                0   \n",
       "2             West             Pacific  ...                                1   \n",
       "3            South  West-South Central  ...                               -1   \n",
       "4          Midwest  West-North Central  ...                                1   \n",
       "...            ...                 ...  ...                              ...   \n",
       "6389       Midwest  East-North Central  ...                                1   \n",
       "6390         South  East-South Central  ...                                7   \n",
       "6391     Northeast        Mid-Atlantic  ...                                1   \n",
       "6392          West             Pacific  ...                                7   \n",
       "6393         South      South Atlantic  ...                                0   \n",
       "\n",
       "     How much money do you have in savings today?  \\\n",
       "0                                               6   \n",
       "1                                               2   \n",
       "2                                               4   \n",
       "3                                              -1   \n",
       "4                                              98   \n",
       "...                                           ...   \n",
       "6389                                            3   \n",
       "6390                                           99   \n",
       "6391                                            6   \n",
       "6392                                           99   \n",
       "6393                                            2   \n",
       "\n",
       "     Which one of the following best describes your housing situation?  \\\n",
       "0                                                     1                  \n",
       "1                                                     1                  \n",
       "2                                                     1                  \n",
       "3                                                    -1                  \n",
       "4                                                     2                  \n",
       "...                                                 ...                  \n",
       "6389                                                  1                  \n",
       "6390                                                  1                  \n",
       "6391                                                  2                  \n",
       "6392                                                  2                  \n",
       "6393                                                  2                  \n",
       "\n",
       "     About how much do you pay for your home each month?  \\\n",
       "0                                                     4    \n",
       "1                                                     4    \n",
       "2                                                     3    \n",
       "3                                                    99    \n",
       "4                                                     2    \n",
       "...                                                 ...    \n",
       "6389                                                  6    \n",
       "6390                                                 99    \n",
       "6391                                                  5    \n",
       "6392                                                  5    \n",
       "6393                                                  5    \n",
       "\n",
       "      What do you owe on your home?  \\\n",
       "0                                 2   \n",
       "1                                 2   \n",
       "2                                 2   \n",
       "3                                -2   \n",
       "4                                -2   \n",
       "...                             ...   \n",
       "6389                              2   \n",
       "6390                             99   \n",
       "6391                             -2   \n",
       "6392                             -2   \n",
       "6393                             -2   \n",
       "\n",
       "      Student/Education Loan (for yourself or someone else)  \\\n",
       "0                                                     0       \n",
       "1                                                     0       \n",
       "2                                                     0       \n",
       "3                                                     0       \n",
       "4                                                     0       \n",
       "...                                                 ...       \n",
       "6389                                                  0       \n",
       "6390                                                  0       \n",
       "6391                                                  1       \n",
       "6392                                                  0       \n",
       "6393                                                  0       \n",
       "\n",
       "      Used payday loan or cash advance loan  \\\n",
       "0                                         0   \n",
       "1                                         0   \n",
       "2                                         0   \n",
       "3                                         0   \n",
       "4                                         0   \n",
       "...                                     ...   \n",
       "6389                                      0   \n",
       "6390                                      0   \n",
       "6391                                      0   \n",
       "6392                                      0   \n",
       "6393                                      0   \n",
       "\n",
       "      Used pawn loan or auto title loan  Financial Well-Being Scale score  \\\n",
       "0                                     0                                55   \n",
       "1                                     0                                51   \n",
       "2                                     0                                49   \n",
       "3                                     0                                49   \n",
       "4                                     1                                49   \n",
       "...                                 ...                               ...   \n",
       "6389                                  0                                61   \n",
       "6390                                  0                                59   \n",
       "6391                                  0                                59   \n",
       "6392                                  0                                46   \n",
       "6393                                  0                                49   \n",
       "\n",
       "      Financial Skill Scale score  \n",
       "0                              44  \n",
       "1                              43  \n",
       "2                              42  \n",
       "3                              42  \n",
       "4                              42  \n",
       "...                           ...  \n",
       "6389                           47  \n",
       "6390                           59  \n",
       "6391                           51  \n",
       "6392                           54  \n",
       "6393                           42  \n",
       "\n",
       "[6394 rows x 32 columns]"
      ]
     },
     "execution_count": 4,
     "metadata": {},
     "output_type": "execute_result"
    }
   ],
   "source": [
    "CFPB_MAPPED = CFPB_MAPPED.drop(columns = ['Unnamed: 0'])\n",
    "CFPB_MAPPED"
   ]
  },
  {
   "cell_type": "markdown",
   "metadata": {},
   "source": [
    "# Now some extra cleaning to bring the datasets together"
   ]
  },
  {
   "cell_type": "code",
   "execution_count": 8,
   "metadata": {},
   "outputs": [
    {
     "data": {
      "text/plain": [
       "Index(['PUF_ID', 'Age Group', 'Education (Highest Degree)', 'Race/Ethnicity',\n",
       "       'Gender', 'Household Income', 'Household Size', 'Federal Poverty Level',\n",
       "       'Census Region', 'Census Division',\n",
       "       'I could handle a major unexpected expense.',\n",
       "       'I am just getting by financially',\n",
       "       'I struggle to understand financial information',\n",
       "       'How would you assess your overall financial knowledge?',\n",
       "       'I follow-through on financial goals I set for myself.',\n",
       "       'I set financial goals for what I want to achieve with my money',\n",
       "       'I consult my budget to see how much money I have left',\n",
       "       'Stayed within your budget or spending plan',\n",
       "       'Paid all your bills on time', 'Paid off credit card balance in full',\n",
       "       'Putting money into savings is a habit for me',\n",
       "       'A Retirement Savings Account', 'A Non-Retirement Savings Account',\n",
       "       'How much money do you have in savings today?',\n",
       "       'Which one of the following best describes your housing situation?',\n",
       "       'About how much do you pay for your home each month?',\n",
       "       'What do you owe on your home?',\n",
       "       'Student/Education Loan (for yourself or someone else)',\n",
       "       'Used payday loan or cash advance loan',\n",
       "       'Used pawn loan or auto title loan', 'Financial Well-Being Scale score',\n",
       "       'Financial Skill Scale score'],\n",
       "      dtype='object')"
      ]
     },
     "execution_count": 8,
     "metadata": {},
     "output_type": "execute_result"
    }
   ],
   "source": [
    "CFPB_MAPPED.columns"
   ]
  },
  {
   "cell_type": "code",
   "execution_count": 6,
   "metadata": {
    "scrolled": true
   },
   "outputs": [
    {
     "data": {
      "text/plain": [
       "Index(['NFCSID', 'STATEQ', 'CENSUSDIV', 'CENSUSREG', 'A3', 'A3Ar_w', 'A3B',\n",
       "       'A4A_new_w', 'A5_2015', 'A6', 'A7', 'A7A', 'A11', 'A8', 'AM21', 'AM30',\n",
       "       'AM31', 'AM22', 'X3', 'X4', 'A9', 'A40', 'A10', 'A10A', 'A21_2015',\n",
       "       'A22_2015', 'A14', 'A41', 'J1', 'J2', 'J3', 'J5', 'J20', 'J32', 'J41_1',\n",
       "       'J41_2', 'C1_2012', 'C4_2012', 'C5_2012', 'D40', 'EA_1', 'E7', 'E8',\n",
       "       'E20', 'E15_2015', 'F2_1', 'F2_2', 'F2_3', 'F2_4', 'F2_5', 'G38', 'M40',\n",
       "       'M20', 'M21_1', 'M21_2_2015', 'M21_3', 'M21_4', 'M41', 'M42', 'M6',\n",
       "       'M9', 'M10', 'wgt_n2', 'wgt_d2', 'wgt_s3'],\n",
       "      dtype='object')"
      ]
     },
     "execution_count": 6,
     "metadata": {},
     "output_type": "execute_result"
    }
   ],
   "source": [
    "FINRA_df.columns"
   ]
  },
  {
   "cell_type": "code",
   "execution_count": null,
   "metadata": {},
   "outputs": [],
   "source": [
    "col_map = {\n",
    "    'A3Ar_w':'Age Group', \n",
    "    'A5_2015':'Education (Highest Degree)', \n",
    "    'A4A_new_w':'Race', \n",
    "    'A3':'Gender',\n",
    "    'A8':'Household Income',\n",
    "    'A7':'Household Size', \n",
    "    'CENSUSREG':'Census Region', \n",
    "    'CENSUSDIV':'Census Division',\n",
    "    'J41_2':'I am just getting by financially',\n",
    "    'EA_1':'Do You Currently Own Your Home?', \n",
    "\n",
    "    #will clean this up later on\n",
    "    'C1_2012':'Retirement Plan A', \n",
    "    'C4_2012':'Retirement PLan B', \n",
    "}\n",
    "\n",
    "################################################################################################\n",
    "#TO DO LIST\n",
    "#- See if bottom CFPB columns have pairs in the original FINRA dataset [DONE]\n",
    "#-set up code to drop columns we no longer need\n",
    "#-adjust values of columns we're bringing together\n",
    "#(if we have time)- bring in columns not here yet to clean and combine\n",
    "########################################################################################\n"
   ]
  },
  {
   "cell_type": "markdown",
   "metadata": {},
   "source": [
    "These are some inital columns from the FINRA dataset that I decided to delete, with some reasoning (we can talk more if you want more detail)\n",
    "* A3B. Its just a combination of age and gender\n",
    "* A7A. Meaning not understood\n",
    "* All Military Columns. Not present in other dataset\n",
    "* A40. A9 covers enough I believe\n",
    "* A10. Not in other dataset, not too important\n",
    "* A22. reponse rate small\n",
    "* A14. Not in other datset\n",
    "* J41_1. Not Present in other dataset and probably not too important\n",
    "* C5_2012. Not Present in Other dataset and probably not too important\n",
    "* D40. Not in other data set\n",
    "* E20. Not in other data set\n",
    "* G38 not in other data set, probably not important\n",
    "* M21_4. Not too many military data\n",
    "* M41. Not in other data, not too important, low response rate\n",
    "* M42 Not in other data, not too important, low response rate\n",
    "* WGT columns. Not really sure how to use it with other dataset"
   ]
  },
  {
   "cell_type": "markdown",
   "metadata": {},
   "source": [
    "# --------Column explanations---------"
   ]
  },
  {
   "cell_type": "markdown",
   "metadata": {},
   "source": [
    "## Columns we have ready"
   ]
  },
  {
   "cell_type": "markdown",
   "metadata": {},
   "source": [
    "### ```NFISID``` and ```PUF_ID```"
   ]
  },
  {
   "cell_type": "markdown",
   "metadata": {},
   "source": [
    "Since they could still be useful in identifing the different individuals, i'll keep it in"
   ]
  },
  {
   "cell_type": "markdown",
   "metadata": {},
   "source": [
    "### ```Census Region``` and ```Census Division```"
   ]
  },
  {
   "cell_type": "markdown",
   "metadata": {},
   "source": [
    " They look perfect to me! we can combine them as is."
   ]
  },
  {
   "cell_type": "code",
   "execution_count": 2,
   "metadata": {},
   "outputs": [],
   "source": [
    "#code here to switch numerical values to catagorical values in FINRA dataset"
   ]
  },
  {
   "cell_type": "markdown",
   "metadata": {},
   "source": [
    "### ```Gender```"
   ]
  },
  {
   "cell_type": "markdown",
   "metadata": {},
   "source": [
    "Also looks perfect to me!"
   ]
  },
  {
   "cell_type": "code",
   "execution_count": 3,
   "metadata": {},
   "outputs": [],
   "source": [
    "#code here to switch numerical values to catagorical values in FINRA dataset"
   ]
  },
  {
   "cell_type": "markdown",
   "metadata": {},
   "source": [
    "### ```Age```"
   ]
  },
  {
   "cell_type": "markdown",
   "metadata": {},
   "source": [
    "The first four levels (up to age 54) are the same in both datasets, but its differs afterthat. We will need to adjust the last levels of each dataset before mergins"
   ]
  },
  {
   "cell_type": "code",
   "execution_count": 4,
   "metadata": {},
   "outputs": [],
   "source": [
    "#code here to adjust both datasets"
   ]
  },
  {
   "cell_type": "markdown",
   "metadata": {},
   "source": [
    "### ```Race/Ethnicity``` and ```Race```"
   ]
  },
  {
   "cell_type": "markdown",
   "metadata": {},
   "source": [
    "As mentioned in our previous meetings, the FINRA dataset has race seperated between white and non-white. We will need to adjust for that"
   ]
  },
  {
   "cell_type": "code",
   "execution_count": 5,
   "metadata": {},
   "outputs": [],
   "source": [
    "#Change values in CFPB\n",
    "\n",
    "#also change name to just race in CFPB"
   ]
  },
  {
   "cell_type": "markdown",
   "metadata": {},
   "source": [
    "### ```Education (Highest Degree)```"
   ]
  },
  {
   "cell_type": "markdown",
   "metadata": {},
   "source": [
    "Present in both! FINRA dataset needs to be adjusted to fit to CFPB dataset "
   ]
  },
  {
   "cell_type": "code",
   "execution_count": 6,
   "metadata": {},
   "outputs": [],
   "source": [
    "#Adjust values in FINRA to match CPFB data"
   ]
  },
  {
   "cell_type": "markdown",
   "metadata": {},
   "source": [
    "### ```Household Income```"
   ]
  },
  {
   "cell_type": "markdown",
   "metadata": {},
   "source": [
    "Present in both! Both need to be adjusted to fit one another"
   ]
  },
  {
   "cell_type": "code",
   "execution_count": 7,
   "metadata": {},
   "outputs": [],
   "source": [
    "#adjust in both datasets"
   ]
  },
  {
   "cell_type": "markdown",
   "metadata": {},
   "source": [
    "### ```Household Size```"
   ]
  },
  {
   "cell_type": "markdown",
   "metadata": {},
   "source": [
    "Okay its a bit of a stretch but I think ```A7``` in the FINRA dataset can match with the CFPB column. I say we try it"
   ]
  },
  {
   "cell_type": "code",
   "execution_count": 8,
   "metadata": {},
   "outputs": [],
   "source": [
    "#adjust values in FINRA to match CFPB PPHHSIZE"
   ]
  },
  {
   "cell_type": "markdown",
   "metadata": {},
   "source": [
    "### ```I am just getting by financially```"
   ]
  },
  {
   "cell_type": "markdown",
   "metadata": {},
   "source": [
    "`J41_2` in the FINRA dataset and `FWB1_5` in the CFPB dataset are almost exactly the same! Horray!"
   ]
  },
  {
   "cell_type": "code",
   "execution_count": 9,
   "metadata": {},
   "outputs": [],
   "source": [
    "#change from numerical values"
   ]
  },
  {
   "cell_type": "markdown",
   "metadata": {},
   "source": [
    "### ```Retirement Plan```"
   ]
  },
  {
   "cell_type": "markdown",
   "metadata": {},
   "source": [
    " The CFPB dataset has the `AUTOMATED_1` which says `A Retirement Savings Account`. In the FINRA dataset we have `C1_2012` and `C4_2012`. They both ask about retirement plans, but one asks whether it came through an employer or not. I think we can still combine these and make a new column to match to `AUTOMATED_1`"
   ]
  },
  {
   "cell_type": "code",
   "execution_count": 10,
   "metadata": {},
   "outputs": [],
   "source": [
    "#Combine C1 and C4 and then adjust values"
   ]
  },
  {
   "cell_type": "markdown",
   "metadata": {},
   "source": [
    "### ```Housing```"
   ]
  },
  {
   "cell_type": "markdown",
   "metadata": {},
   "source": [
    "FINRA has a column, ```EA_1``` that asks whether individuals own their home. `HOUSING` in the CFPB dataset asks if individuals own a home or rent. I think it will be easy to change the adjust the value to capture who is a homeowner and who isn't"
   ]
  },
  {
   "cell_type": "code",
   "execution_count": 11,
   "metadata": {},
   "outputs": [],
   "source": [
    "#adjust values of EA_1 and HOUSING"
   ]
  },
  {
   "cell_type": "markdown",
   "metadata": {},
   "source": [
    "## Columns that are missing its pair"
   ]
  },
  {
   "cell_type": "markdown",
   "metadata": {},
   "source": [
    "### FINRA columns"
   ]
  },
  {
   "cell_type": "markdown",
   "metadata": {},
   "source": [
    "### ```Marital Status```"
   ]
  },
  {
   "cell_type": "markdown",
   "metadata": {},
   "source": [
    "There is a column in the orignal dataset of CFPB that wasn't brought over. It could be interesting how marriage and a family could affect someones financial success regardless in spite of the financial education they might have recieved. For now we can drop the marital status column from the FINRA dataset and we can look consider it another time"
   ]
  },
  {
   "cell_type": "code",
   "execution_count": 12,
   "metadata": {},
   "outputs": [],
   "source": [
    "#drop marital status from FINRA dataset (A6)"
   ]
  },
  {
   "cell_type": "code",
   "execution_count": 13,
   "metadata": {},
   "outputs": [],
   "source": [
    "#add martial status from CFPB (if we decide to do that) (PPMARIT)"
   ]
  },
  {
   "cell_type": "markdown",
   "metadata": {},
   "source": [
    "### ```Number of Dependents```"
   ]
  },
  {
   "cell_type": "markdown",
   "metadata": {},
   "source": [
    " Same as Marital Status"
   ]
  },
  {
   "cell_type": "code",
   "execution_count": 14,
   "metadata": {},
   "outputs": [],
   "source": [
    "#drop column from FINRA (A11)"
   ]
  },
  {
   "cell_type": "code",
   "execution_count": 15,
   "metadata": {},
   "outputs": [],
   "source": [
    "#add column from CFPB (if we decide to later on)(PPT612 Its about children)"
   ]
  },
  {
   "cell_type": "markdown",
   "metadata": {},
   "source": [
    "### ```Employment Status```"
   ]
  },
  {
   "cell_type": "markdown",
   "metadata": {},
   "source": [
    "Along the same thinking with ```Marital Status```, I think this can give us better insight into the individuals current situation. I think we should bring that column in from the CFPB dataset"
   ]
  },
  {
   "cell_type": "code",
   "execution_count": 16,
   "metadata": {},
   "outputs": [],
   "source": [
    "#code to bring in said column (tbh doing it from here might be hard AF so we might want to go back to the orignial cleaning notebook and bring it over from there)\n",
    "#EMPLOY"
   ]
  },
  {
   "cell_type": "markdown",
   "metadata": {},
   "source": [
    "### ```Retirement```"
   ]
  },
  {
   "cell_type": "markdown",
   "metadata": {},
   "source": [
    "I thought this would be a good column to check, but honestly its already answered in the employment question above so we can just delete it"
   ]
  },
  {
   "cell_type": "code",
   "execution_count": 17,
   "metadata": {},
   "outputs": [],
   "source": [
    "#delete column from FINRA (A10A)"
   ]
  },
  {
   "cell_type": "markdown",
   "metadata": {},
   "source": [
    "### ```Highest Degree Completed in Household```"
   ]
  },
  {
   "cell_type": "markdown",
   "metadata": {},
   "source": [
    "This one I think is interesting because although an individual might not an advanced education, maybe their spouse or partner has and therefore they make better decisions. There is also a column in the CFPB dataset that we can grab (HHEDUC, PAREDUC). However, This might be more of a strech goal. We can get rid of it for now but we can consider it for a later time"
   ]
  },
  {
   "cell_type": "code",
   "execution_count": 18,
   "metadata": {},
   "outputs": [],
   "source": [
    "#drop colum from FINRA (A41)\n",
    "\n",
    "#Code to bring in CFPB column(HHEDUC, PAREDUC)(strech goal)(read note in Employment Status)"
   ]
  },
  {
   "cell_type": "markdown",
   "metadata": {},
   "source": [
    "### `How Satisfied are you Financially?`"
   ]
  },
  {
   "cell_type": "markdown",
   "metadata": {},
   "source": [
    "This one is a bit tricky. In FINRA the question `J1` states `'Overall, thinking of your assets, debts and savings, how satisfied are you with your current personal financial condition?'`, with a scale from 1 to 10. In the CFPB survey there are two sections, one being `SWB_1` which states `'I am satisfied with my life'` with a scale from 1 to 7, and `HOUSESAT` which states '`How satisfied are you with the place you live currently?'` with a scale from 1 to 4.<br>\n",
    "I think this is an important question because we could find that individuals that are content might not make much progress even if they had financial education. I think `SWB_1` is probably the better fit, but it will be hard to get the scaling correct. For now, we can drop `J1` but I suggest we return to it at a later time"
   ]
  },
  {
   "cell_type": "code",
   "execution_count": 19,
   "metadata": {},
   "outputs": [],
   "source": [
    "#code to drop J1\n",
    "\n",
    "#Code to bring in CFPB column (HOUSESAT, SWB_1)(strech goal)(read note in Employment Status)"
   ]
  },
  {
   "cell_type": "markdown",
   "metadata": {},
   "source": [
    "### ```Do You Spend More Than, Less Than, or Equal What You Make?``` ------- IMPORTANT ------"
   ]
  },
  {
   "cell_type": "markdown",
   "metadata": {},
   "source": [
    "This column, `J3`, is another column that I really want to save. Its the closest thing we have to see how much they spend compared to how much they make. However, I didn't find anything in the CFPB dataset that matched this. If we someone knows how we can combine the two with regards to this column, please let me know! (I think `MANAGE1_2` from the CFPB dataset was close, what do you think?)"
   ]
  },
  {
   "cell_type": "code",
   "execution_count": 20,
   "metadata": {},
   "outputs": [],
   "source": [
    "#code to drop J3"
   ]
  },
  {
   "cell_type": "markdown",
   "metadata": {},
   "source": [
    "### ```How Difficult is it to Cover Expenses?```"
   ]
  },
  {
   "cell_type": "markdown",
   "metadata": {},
   "source": [
    " `J4` in the FINRA dataset asks `'In a typical month, how difficult is it for you to cover your expenses\n",
    "and pay all your bills?'`. I think `FWB1_5` in the CFPB dataset is close to this. It states `'I am just getting by financially'`. The difficulty is figuring out how to put them on the same scale. The FINRA column is scaled from 1 to 3, while the CFPB scale is 1 to 5. I think something we could possibly do is set 1 to 1, 3 to 2, and 5 to 3, with 2 split between 1 and 2, and 4 split between 2 and 3. However we decided to do it, I think its important that we use this column. "
   ]
  },
  {
   "cell_type": "code",
   "execution_count": 21,
   "metadata": {},
   "outputs": [],
   "source": [
    "#somehow bring the column in and combine them lol "
   ]
  },
  {
   "cell_type": "markdown",
   "metadata": {},
   "source": [
    "### ```How Confident are you that You Could Come Up with $2000 Dollars Unexpectedly```"
   ]
  },
  {
   "cell_type": "markdown",
   "metadata": {},
   "source": [
    "```J20``` has this question in the FINRA dataset, and I think its a good way to see how well prepared people are financially. There is a column in the CFPB dataset that has something similar, `FWB1_1`, which says `'I could handle a major unexpected expense'`. However, I think its fine if we leave this as a strech goal for now."
   ]
  },
  {
   "cell_type": "code",
   "execution_count": 22,
   "metadata": {},
   "outputs": [],
   "source": [
    "#code to drop J20 from FINRA\n",
    "\n",
    "#code to bring in FWB_1 (read note in Employment Status)"
   ]
  },
  {
   "cell_type": "markdown",
   "metadata": {},
   "source": [
    "### CFPB columns"
   ]
  },
  {
   "cell_type": "markdown",
   "metadata": {},
   "source": [
    "### `Paid creditcard in full`"
   ]
  },
  {
   "cell_type": "markdown",
   "metadata": {},
   "source": [
    "I think whether or not a person pays their card in full could be a good measure of their financial understanding (and even financial standing to some extent as well). However, `MANAGE1_3` in the CFPB dataset and `F2_1` in the FINRA dataset word the questions differently enough that combining the two columns will be pretty difficult. I'll drop `F2_1` for now and we can consider it more in a later date"
   ]
  },
  {
   "cell_type": "code",
   "execution_count": 23,
   "metadata": {},
   "outputs": [],
   "source": [
    "#drop F2_1"
   ]
  },
  {
   "cell_type": "markdown",
   "metadata": {},
   "source": [
    "### `I follow-through on financial goals I set for myself.`"
   ]
  },
  {
   "cell_type": "markdown",
   "metadata": {},
   "source": [
    "Column `ACT1_2` in the CFPB column has something very similar in the FINRA dataset, column `J43`, which asks `'If you were to set a financial goal for yourself today, how confident are you in your ability to achieve it?'`. The only problem is that the CFPB column has a range from 1 to 5, while the FINRA one has a range from 1-4. It might be something we will want to look into, but for now we can drop it."
   ]
  },
  {
   "cell_type": "code",
   "execution_count": 24,
   "metadata": {},
   "outputs": [],
   "source": [
    "#drop ACT1_2 column\n",
    "\n",
    "#add J43"
   ]
  },
  {
   "cell_type": "markdown",
   "metadata": {},
   "source": [
    "### `A Non-Retirement Savings Account`"
   ]
  },
  {
   "cell_type": "markdown",
   "metadata": {},
   "source": [
    "the column `AUTOMATED_2` in the CFPB column has its counterpart in column `B2` of the FINRA dataset, which states `'Do you [Does your household] have a savings account, money marketaccount, or CDs?'`. The CFPB column has three values, but tbh two of them are pretty much the same. Therefore using the two of them should be almost no problem"
   ]
  },
  {
   "cell_type": "code",
   "execution_count": 25,
   "metadata": {},
   "outputs": [],
   "source": [
    "#code to bring in B2\n",
    "\n",
    "#code to change value names and get AUTOMATED_2 values in line with B2"
   ]
  },
  {
   "cell_type": "markdown",
   "metadata": {},
   "source": [
    "### `Student/Education Loan (for yourself or someone else)`"
   ]
  },
  {
   "cell_type": "markdown",
   "metadata": {},
   "source": [
    "The CFPB column `PRODHAVE_8` does have something similar in the `G30` columns in FINRA, which as if you have student loans from youself, your spouse, your children, grandchildren, or other individual. Its a bit messy but should we decide to bring it in, it should be easy to clean up the mess."
   ]
  },
  {
   "cell_type": "code",
   "execution_count": 26,
   "metadata": {},
   "outputs": [],
   "source": [
    "#code to bring in data\n",
    "\n",
    "#code to adjust value names"
   ]
  },
  {
   "cell_type": "markdown",
   "metadata": {},
   "source": [
    "### `Used pawn loan or auto title loan`"
   ]
  },
  {
   "cell_type": "markdown",
   "metadata": {},
   "source": [
    "The column in CFPB `PRODUSE_2` has something similar named `G25_1` in the FINRA dataset. Specifically, they both mention auto title loans. I'm not sure how important this is, and considering that the FINRA one makes no mention of the pawn loan, I think its safe to delete this column."
   ]
  },
  {
   "cell_type": "code",
   "execution_count": 27,
   "metadata": {},
   "outputs": [],
   "source": [
    "# delete PRODUSE_2"
   ]
  },
  {
   "cell_type": "markdown",
   "metadata": {},
   "source": [
    "### Only Present in one dataset"
   ]
  },
  {
   "cell_type": "markdown",
   "metadata": {},
   "source": [
    "These are all the columns that are only present in one dataset, and since individual analysis are already being done, I will drop them here.\n",
    "* ```STATEQ```\n",
    "* ```A21_2015```\n",
    "* ```J2```\n",
    "* ```J5```\n",
    "* ```J32```\n",
    "* ```E8```\n",
    "* ```E15_2015```\n",
    "* ```F2_3```\n",
    "* ```F2_4```\n",
    "* ```F2_5```\n",
    "* ```M40```\n",
    "* ```M20```\n",
    "* ```M21_1```\n",
    "* ```M21_2_2015```\n",
    "* ```M21_3```\n",
    "* ```M6```\n",
    "* ```M9```\n",
    "* ```M10```\n",
    "* ```E7```\n",
    "* ```F2_2```\n",
    "\n",
    "From CFPB\n",
    "* ```fpl```\n",
    "* ```FS2_3```\n",
    "* ```SUBKNOWL1```\n",
    "* ```PROPPLAN_3```\n",
    "* ```PROPPLAN_1```\n",
    "* ```MANAGE1_1```\n",
    "* ```SAVEHABIT```\n",
    "* ```SAVINGSRANGES```\n",
    "* ```PRODUSE_1```\n",
    "* ```FWBscore```\n",
    "* ```FSscore```"
   ]
  },
  {
   "cell_type": "code",
   "execution_count": null,
   "metadata": {},
   "outputs": [],
   "source": [
    "#Drop columns"
   ]
  }
 ],
 "metadata": {
  "kernelspec": {
   "display_name": "Python 3",
   "language": "python",
   "name": "python3"
  },
  "language_info": {
   "codemirror_mode": {
    "name": "ipython",
    "version": 3
   },
   "file_extension": ".py",
   "mimetype": "text/x-python",
   "name": "python",
   "nbconvert_exporter": "python",
   "pygments_lexer": "ipython3",
   "version": "3.6.7"
  }
 },
 "nbformat": 4,
 "nbformat_minor": 2
}
